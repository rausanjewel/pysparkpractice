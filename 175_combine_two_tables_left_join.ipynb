{
 "cells": [
  {
   "cell_type": "code",
   "execution_count": 3,
   "metadata": {},
   "outputs": [],
   "source": [
    "import pandas\n",
    "import pyspark\n",
    "from pyspark.sql import SparkSession\n",
    "spark=SparkSession.builder.getOrCreate()"
   ]
  },
  {
   "cell_type": "code",
   "execution_count": 4,
   "metadata": {},
   "outputs": [],
   "source": [
    "from pyspark.sql.functions import *"
   ]
  },
  {
   "cell_type": "code",
   "execution_count": 5,
   "metadata": {},
   "outputs": [],
   "source": [
    "person=[(1,'Wang','Allen'),(2,'Alice','Bob')]\n",
    "personSchema=['personId','lastName','firstName']\n",
    "PersonDF=spark.createDataFrame(person,personSchema)"
   ]
  },
  {
   "cell_type": "code",
   "execution_count": 6,
   "metadata": {},
   "outputs": [
    {
     "name": "stdout",
     "output_type": "stream",
     "text": [
      "root\n",
      " |-- personId: long (nullable = true)\n",
      " |-- lastName: string (nullable = true)\n",
      " |-- firstName: string (nullable = true)\n",
      "\n"
     ]
    },
    {
     "name": "stderr",
     "output_type": "stream",
     "text": [
      "                                                                                \r"
     ]
    },
    {
     "name": "stdout",
     "output_type": "stream",
     "text": [
      "+--------+--------+---------+\n",
      "|personId|lastName|firstName|\n",
      "+--------+--------+---------+\n",
      "|1       |Wang    |Allen    |\n",
      "|2       |Alice   |Bob      |\n",
      "+--------+--------+---------+\n",
      "\n"
     ]
    }
   ],
   "source": [
    "PersonDF.printSchema()\n",
    "PersonDF.show(truncate=False)"
   ]
  },
  {
   "cell_type": "code",
   "execution_count": 7,
   "metadata": {},
   "outputs": [],
   "source": [
    "address=[(1,2,'New York City','New York'),(2,3,'Leetcode','California')]\n",
    "addressSchema=['addressId','personId','city','state']\n",
    "AddressDF=spark.createDataFrame(address,addressSchema)"
   ]
  },
  {
   "cell_type": "code",
   "execution_count": 8,
   "metadata": {},
   "outputs": [
    {
     "name": "stdout",
     "output_type": "stream",
     "text": [
      "root\n",
      " |-- addressId: long (nullable = true)\n",
      " |-- personId: long (nullable = true)\n",
      " |-- city: string (nullable = true)\n",
      " |-- state: string (nullable = true)\n",
      "\n",
      "+---------+--------+-------------+----------+\n",
      "|addressId|personId|city         |state     |\n",
      "+---------+--------+-------------+----------+\n",
      "|1        |2       |New York City|New York  |\n",
      "|2        |3       |Leetcode     |California|\n",
      "+---------+--------+-------------+----------+\n",
      "\n"
     ]
    }
   ],
   "source": [
    "AddressDF.printSchema()\n",
    "AddressDF.show(truncate=False)"
   ]
  },
  {
   "cell_type": "markdown",
   "metadata": {},
   "source": [
    "alias() can be used to truncate the long data frame names. In this case alias() was provided before the join() operation. Also, the select() function was used to keep only the defined four columns."
   ]
  },
  {
   "cell_type": "code",
   "execution_count": 9,
   "metadata": {},
   "outputs": [],
   "source": [
    "PersonDF=PersonDF.alias('p')\n",
    "AddressDF=AddressDF.alias('a')\n",
    "outputDF=PersonDF.join(AddressDF,PersonDF.personId ==  AddressDF.personId,\"left\").select('p.firstName','p.lastName','a.city','a.state')"
   ]
  },
  {
   "cell_type": "code",
   "execution_count": 10,
   "metadata": {},
   "outputs": [
    {
     "name": "stdout",
     "output_type": "stream",
     "text": [
      "root\n",
      " |-- firstName: string (nullable = true)\n",
      " |-- lastName: string (nullable = true)\n",
      " |-- city: string (nullable = true)\n",
      " |-- state: string (nullable = true)\n",
      "\n"
     ]
    },
    {
     "name": "stderr",
     "output_type": "stream",
     "text": [
      "                                                                                \r"
     ]
    },
    {
     "name": "stdout",
     "output_type": "stream",
     "text": [
      "+---------+--------+-------------+--------+\n",
      "|firstName|lastName|city         |state   |\n",
      "+---------+--------+-------------+--------+\n",
      "|Allen    |Wang    |null         |null    |\n",
      "|Bob      |Alice   |New York City|New York|\n",
      "+---------+--------+-------------+--------+\n",
      "\n"
     ]
    }
   ],
   "source": [
    "outputDF.printSchema()\n",
    "outputDF.show(truncate=False)"
   ]
  },
  {
   "cell_type": "markdown",
   "metadata": {},
   "source": [
    "Another way to give an alias() is while doing the join() operation. Here, the col() function is used which need to be called from pyspark.sql.functions. "
   ]
  },
  {
   "cell_type": "code",
   "execution_count": 17,
   "metadata": {},
   "outputs": [],
   "source": [
    "outputDF=PersonDF.alias('p').join(AddressDF.alias('a'),col('p.personId')==col('a.personId'),\"left\").select([col('p.firstName'),col('p.lastName')]+[col('a.city'),col('a.state')])"
   ]
  },
  {
   "cell_type": "code",
   "execution_count": 18,
   "metadata": {},
   "outputs": [
    {
     "name": "stdout",
     "output_type": "stream",
     "text": [
      "root\n",
      " |-- firstName: string (nullable = true)\n",
      " |-- lastName: string (nullable = true)\n",
      " |-- city: string (nullable = true)\n",
      " |-- state: string (nullable = true)\n",
      "\n",
      "+---------+--------+-------------+--------+\n",
      "|firstName|lastName|city         |state   |\n",
      "+---------+--------+-------------+--------+\n",
      "|Allen    |Wang    |null         |null    |\n",
      "|Bob      |Alice   |New York City|New York|\n",
      "+---------+--------+-------------+--------+\n",
      "\n"
     ]
    },
    {
     "name": "stderr",
     "output_type": "stream",
     "text": [
      "                                                                                \r"
     ]
    }
   ],
   "source": [
    "outputDF.printSchema()\n",
    "outputDF.show(truncate=False)"
   ]
  }
 ],
 "metadata": {
  "kernelspec": {
   "display_name": "Python 3",
   "language": "python",
   "name": "python3"
  },
  "language_info": {
   "codemirror_mode": {
    "name": "ipython",
    "version": 3
   },
   "file_extension": ".py",
   "mimetype": "text/x-python",
   "name": "python",
   "nbconvert_exporter": "python",
   "pygments_lexer": "ipython3",
   "version": "3.11.4"
  },
  "orig_nbformat": 4
 },
 "nbformat": 4,
 "nbformat_minor": 2
}
